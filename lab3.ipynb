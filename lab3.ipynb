{
 "cells": [
  {
   "attachments": {},
   "cell_type": "markdown",
   "metadata": {},
   "source": [
    "### Task 1 - Regresión lineal polinómica\n",
    "\n",
    "#### Instrucciones: Usted usará Python a través de un Jupyter Notebook para llevar a cabo este ejercicio. Recuerde utilizar comentarios para describir lo que está haciendo en cada parte del proceso. Estará usando el juego de datos proporcionado dentro del portal. Al finalizar recuerde subir al portal un link a su repositorio en el que se pueda correr su notebook, usando https://mybinder.org/. El juego de datos proporcionado es parte de la plataforma Kaggle, dentro del cual se muestran los precios de casas en King County, Seattle. Este juego de datos incluye los precios de las casas vendidas entre mayo 2014 y mayo 2015. Nótese que el precio es dependiente de varias características como el número de habitaciones, número de baños, metros cuadrados de la sala, pisos, etc."
   ]
  },
  {
   "attachments": {},
   "cell_type": "markdown",
   "metadata": {},
   "source": [
    "### Task 1.1 - Leer el archivo CSV proporcionado (kc_house_data.csv dentro de lab4_dataset.zip) y almacenarlo en un p.array para ser trabajado en el notebook."
   ]
  },
  {
   "cell_type": "code",
   "execution_count": 1,
   "metadata": {},
   "outputs": [
    {
     "data": {
      "text/plain": [
       "array([[         nan,          nan,  2.21900e+05, ..., -1.22257e+02,\n",
       "         1.34000e+03,  5.65000e+03],\n",
       "       [         nan,          nan,  5.38000e+05, ..., -1.22319e+02,\n",
       "         1.69000e+03,  7.63900e+03],\n",
       "       [         nan,          nan,  1.80000e+05, ..., -1.22233e+02,\n",
       "         2.72000e+03,  8.06200e+03],\n",
       "       ...,\n",
       "       [         nan,          nan,  4.02101e+05, ..., -1.22299e+02,\n",
       "         1.02000e+03,  2.00700e+03],\n",
       "       [         nan,          nan,  4.00000e+05, ..., -1.22069e+02,\n",
       "         1.41000e+03,  1.28700e+03],\n",
       "       [         nan,          nan,  3.25000e+05, ..., -1.22299e+02,\n",
       "         1.02000e+03,  1.35700e+03]])"
      ]
     },
     "execution_count": 1,
     "metadata": {},
     "output_type": "execute_result"
    }
   ],
   "source": [
    "#Importamos las librerías necesarias\n",
    "import numpy as np\n",
    "import matplotlib.pyplot as plt\n",
    "\n",
    "# leer el archivo CSV\n",
    "data = np.genfromtxt('kc_house_data.csv', delimiter=',', skip_header=True)\n",
    "\n",
    "data = np.array(data)\n",
    "\n",
    "# imprimir la forma (shape) del arreglo\n",
    "data"
   ]
  },
  {
   "cell_type": "code",
   "execution_count": 2,
   "metadata": {},
   "outputs": [
    {
     "data": {
      "text/plain": [
       "453873"
      ]
     },
     "execution_count": 2,
     "metadata": {},
     "output_type": "execute_result"
    }
   ],
   "source": [
    "#Mostramos el tamaño que tiene dicho array\n",
    "data.size"
   ]
  },
  {
   "cell_type": "code",
   "execution_count": 3,
   "metadata": {},
   "outputs": [
    {
     "data": {
      "text/plain": [
       "(21613, 21)"
      ]
     },
     "execution_count": 3,
     "metadata": {},
     "output_type": "execute_result"
    }
   ],
   "source": [
    "#Analizamos el shape del array\n",
    "data.shape"
   ]
  },
  {
   "cell_type": "code",
   "execution_count": 4,
   "metadata": {},
   "outputs": [
    {
     "data": {
      "text/plain": [
       "2"
      ]
     },
     "execution_count": 4,
     "metadata": {},
     "output_type": "execute_result"
    }
   ],
   "source": [
    "#Imprimimos la cantidad de dimensiones que tiene el array\n",
    "data.ndim"
   ]
  },
  {
   "cell_type": "code",
   "execution_count": 5,
   "metadata": {},
   "outputs": [],
   "source": [
    "#Limpiamos los datos\n",
    "\n",
    "#Empezamos quitando los Nan que se encuentran en dicho array\n",
    "data = data[~np.isnan(data[:,2])]\n",
    "data = data[~np.isnan(data[:,5])]"
   ]
  },
  {
   "attachments": {},
   "cell_type": "markdown",
   "metadata": {},
   "source": [
    "### Task 1.2 - Ajustar un modelo polinomial (regresión lineal) en base al juego de datos cargado de forma matricial que relaciona las variables de precio con los pies cuadrados del espacio habitable interior de los apartamentos (price - sqft living)."
   ]
  },
  {
   "cell_type": "code",
   "execution_count": 12,
   "metadata": {},
   "outputs": [],
   "source": [
    "#Aplicamos el código visto en clase\n",
    "norm = lambda v: (sum(v**2))**0.5\n",
    "cost = lambda X, y, t: ((X @ t - y) ** 2).sum() / len(y)\n",
    "grad = lambda X, y, t: 2 * X.T @ (X @ t - y) / len(y)\n",
    "\n",
    "def linear_regression(X, y, t, cost, grad, a=0.1, n=1000, on_step=None): \n",
    "    costs = []\n",
    "    for i in range(n):\n",
    "        nabla = grad(X, y, t)\n",
    "        \n",
    "        t -= a * grad(X, y, t)\n",
    "        costs.append(cost(X, y, t))\n",
    "\n",
    "        if on_step:\n",
    "            on_step(t)\n",
    "    \n",
    "    return t, costs\n",
    "\n",
    "def gradient_descent(\n",
    "    theta_0,\n",
    "    cost_function,\n",
    "    cost_function_gradient,\n",
    "    learning_rate=0.01,\n",
    "    threshold=0.001,\n",
    "    max_iter=10000,\n",
    "    params=[]\n",
    "):\n",
    "    theta = theta_0\n",
    "    iteration = 0\n",
    "    costs = []\n",
    "    thetas = []\n",
    "\n",
    "    while np.linalg.norm(cost_function_gradient(theta, *params)) > threshold and iteration < max_iter:\n",
    "        iteration += 1\n",
    "        theta -= learning_rate * cost_function_gradient(theta, *params)\n",
    "        costs.append(cost_function(theta, *params))\n",
    "        thetas.append(theta.copy())\n",
    "\n",
    "    return theta, costs, thetas\n",
    "\n",
    "def linear_cost(theta, X, y, lmbd):\n",
    "    h = X @ theta\n",
    "    reg = (lmbd / (2 * len(X))) * (theta[1:] ** 2).sum()\n",
    "    return ((h - y) ** 2).sum() / (2 * len(X)) + reg\n",
    "\n",
    "\n",
    "def linear_cost_gradient(theta, X, y, lmbd):\n",
    "    h = X @ theta\n",
    "    theta_copy = theta.copy()\n",
    "    theta_copy[0] = 0\n",
    "    reg_prime = lmbd * theta_copy / len(X)\n",
    "    return ((X.T @ (h - y)) / len(X)) + reg_prime"
   ]
  },
  {
   "cell_type": "code",
   "execution_count": 13,
   "metadata": {},
   "outputs": [
    {
     "name": "stdout",
     "output_type": "stream",
     "text": [
      "Price: [[221900.]\n",
      " [538000.]\n",
      " [180000.]\n",
      " ...\n",
      " [402101.]\n",
      " [400000.]\n",
      " [325000.]]\n",
      "Sqft_living: [[1180.]\n",
      " [2570.]\n",
      " [ 770.]\n",
      " ...\n",
      " [1020.]\n",
      " [1600.]\n",
      " [1020.]]\n",
      "Valor de la matriz Xr: [[1.00000e+00 2.21900e+05]\n",
      " [1.00000e+00 5.38000e+05]\n",
      " [1.00000e+00 1.80000e+05]\n",
      " ...\n",
      " [1.00000e+00 4.02101e+05]\n",
      " [1.00000e+00 4.00000e+05]\n",
      " [1.00000e+00 3.25000e+05]]\n",
      "Valor de la matriz Xr: [[1.00000e+00 2.21900e+05]\n",
      " [1.00000e+00 5.38000e+05]\n",
      " [1.00000e+00 1.80000e+05]\n",
      " ...\n",
      " [1.00000e+00 4.02101e+05]\n",
      " [1.00000e+00 4.00000e+05]\n",
      " [1.00000e+00 3.25000e+05]]\n",
      "Valor de theta_init: [[0.36635389]\n",
      " [0.7104728 ]]\n",
      "Valor de theta_init limpio: [0.36635389 0.7104728 ]\n"
     ]
    },
    {
     "name": "stderr",
     "output_type": "stream",
     "text": [
      "C:\\Users\\barre\\AppData\\Local\\Temp\\ipykernel_20592\\3992827482.py:3: RuntimeWarning: overflow encountered in square\n",
      "  cost = lambda X, y, t: ((X @ t - y) ** 2).sum() / len(y)\n",
      "C:\\Users\\barre\\AppData\\Local\\Temp\\ipykernel_20592\\3992827482.py:4: RuntimeWarning: overflow encountered in matmul\n",
      "  grad = lambda X, y, t: 2 * X.T @ (X @ t - y) / len(y)\n",
      "C:\\Users\\barre\\AppData\\Local\\Temp\\ipykernel_20592\\3992827482.py:11: RuntimeWarning: invalid value encountered in subtract\n",
      "  t -= a * grad(X, y, t)\n"
     ]
    },
    {
     "data": {
      "image/png": "[encoded data removed]",
      "text/plain": [
       "<Figure size 640x480 with 1 Axes>"
      ]
     },
     "metadata": {},
     "output_type": "display_data"
    }
   ],
   "source": [
    "\n",
    "# Seleccionar las columnas de interés de los datos\n",
    "X = data[:, 2].reshape(-1, 1)  # Todas las filas, columna 2\n",
    "Y = data[:, 5].reshape(-1, 1)  # Todas las filas, columna 5\n",
    "\n",
    "#Imprimimos los valroes de X e Y\n",
    "print(\"Price: \" + str(X))\n",
    "print(\"Sqft_living: \" + str(Y))\n",
    "\n",
    "Xr = np.hstack((\n",
    "    np.ones((len(X), 1)),\n",
    "    X.reshape((len(X), 1))\n",
    "))\n",
    "\n",
    "#Calculamos el Xr visto en clase\n",
    "Xr = np.hstack((np.ones((len(X), 1)), X.reshape(-1, 1)))\n",
    "\n",
    "print(\"Valor de la matriz Xr: \" + str(Xr))\n",
    "\n",
    "#Se le hace un reshape a la matriz Xr\n",
    "Xr = Xr.reshape(-1, 2)\n",
    "\n",
    "#Se imprime el valor de la matriz Xr\n",
    "print(\"Valor de la matriz Xr: \" + str(Xr))\n",
    "\n",
    "#Calculamos el valor de teta inicial\n",
    "theta_init = np.random.rand(Xr.shape[1],1)\n",
    "\n",
    "#Imprimimos los valores de theta_init\n",
    "print(\"Valor de theta_init: \" + str(theta_init))\n",
    "\n",
    "#Para prevenir, limpiaremos los valores de theta_init para que no tena nulos\n",
    "theta_init = theta_init[~np.isnan(theta_init)]\n",
    "\n",
    "#Imprimimos los valores de theta_init ya limpio\n",
    "print(\"Valor de theta_init limpio: \" + str(theta_init))\n",
    "\n",
    "#Le hacemos un reshape a nuestro theta_init\n",
    "theta_init = theta_init.reshape(-1, 1)\n",
    "\n",
    "thetaf, cost = linear_regression(\n",
    "    Xr,\n",
    "    Y,\n",
    "    theta_init,\n",
    "    cost,\n",
    "    grad,\n",
    "    a=0.025,\n",
    "    n=100  \n",
    ")\n",
    "\n",
    "#Calculamos el valor de xm\n",
    "xm = np.array([[0], [len(X)]])\n",
    "#Calculamos el valor de xmr\n",
    "xmr = np.hstack((\n",
    "    np.ones((2, 1)),\n",
    "    xm\n",
    "))\n",
    "\n",
    "#Graficamos los resultados \n",
    "plt.plot(Xr[:,1], Y, 'ro')\n",
    "plt.plot(xm, xmr @ thetaf)\n",
    "plt.show()\n",
    "\n"
   ]
  },
  {
   "attachments": {},
   "cell_type": "markdown",
   "metadata": {},
   "source": [
    "### Task 1.3 Utilice la implementación vectorial del algoritmo de regresión lineal (descenso del gradiente visto en clase)."
   ]
  },
  {
   "cell_type": "code",
   "execution_count": 24,
   "metadata": {},
   "outputs": [
    {
     "name": "stdout",
     "output_type": "stream",
     "text": [
      "Price: [[221900.]\n",
      " [538000.]\n",
      " [180000.]\n",
      " ...\n",
      " [402101.]\n",
      " [400000.]\n",
      " [325000.]]\n",
      "Sqft_living: [[1180.]\n",
      " [2570.]\n",
      " [ 770.]\n",
      " ...\n",
      " [1020.]\n",
      " [1600.]\n",
      " [1020.]]\n",
      "Valor de theta_init: [[0.]]\n",
      "Valor de X_mean: [540088.14176653]\n",
      "Valor de X_std: [367118.70318137]\n",
      "Valor de X normalizado: [[-0.86671733]\n",
      " [-0.00568792]\n",
      " [-0.98084935]\n",
      " ...\n",
      " [-0.37586519]\n",
      " [-0.38158814]\n",
      " [-0.58588173]]\n"
     ]
    },
    {
     "data": {
      "image/png": "[encoded data removed]",
      "text/plain": [
       "<Figure size 640x480 with 1 Axes>"
      ]
     },
     "metadata": {},
     "output_type": "display_data"
    }
   ],
   "source": [
    "# Seleccionar las columnas de interés de los datos\n",
    "X = data[:, 2].reshape(-1, 1)  # Todas las filas, columna 2\n",
    "Y = data[:, 5].reshape(-1, 1)  # Todas las filas, columna 5\n",
    "\n",
    "#Imprimimos los valroes de X e Y\n",
    "print(\"Price: \" + str(X))\n",
    "print(\"Sqft_living: \" + str(Y))\n",
    "\n",
    "# Obtener el tamaño m x n de nuestra X\n",
    "m, n = X.shape\n",
    "\n",
    "# Inicializamos theta inicial\n",
    "theta_init = np.zeros((n, 1))\n",
    "\n",
    "#Imprimimos los valores de theta_init\n",
    "print(\"Valor de theta_init: \" + str(theta_init))\n",
    "\n",
    "# Normalizar los datos en X\n",
    "X_mean = np.mean(X, axis=0)  # Calcular la media de cada columna de X\n",
    "X_std = np.std(X, axis=0)  # Calcular la desviación estándar de cada columna de X\n",
    "X = (X - X_mean) / X_std  # Normalizar X\n",
    "\n",
    "# Imprimir los valores de X_mean\n",
    "print(\"Valor de X_mean: \" + str(X_mean))\n",
    "\n",
    "# Imprimir los valores de X_std\n",
    "print(\"Valor de X_std: \" + str(X_std))\n",
    "\n",
    "# Imprimir los valores de X normalizado\n",
    "print(\"Valor de X normalizado: \" + str(X))\n",
    "\n",
    "theta, costs, thetas = gradient_descent(\n",
    "    theta_init,\n",
    "    linear_cost,\n",
    "    linear_cost_gradient,\n",
    "    learning_rate=0.05,\n",
    "    threshold=0.001,\n",
    "    max_iter=1000,\n",
    "    params=[X,Y, 0.1]\n",
    ")\n",
    "\n",
    "#Realizamos el for\n",
    "\"\"\"for test_theta in thetas:\n",
    "    pass\"\"\"\n",
    "\n",
    "plt.scatter(X[:, 0], Y, color='red')\n",
    "plt.plot(X[:, 0], X @ theta, color='green')\n",
    "plt.show()"
   ]
  },
  {
   "attachments": {},
   "cell_type": "markdown",
   "metadata": {},
   "source": [
    "### Task 1.4 Usando cross validation determine el grado del polinomio"
   ]
  },
  {
   "cell_type": "code",
   "execution_count": null,
   "metadata": {},
   "outputs": [],
   "source": []
  }
 ],
 "metadata": {
  "kernelspec": {
   "display_name": "Python 3",
   "language": "python",
   "name": "python3"
  },
  "language_info": {
   "codemirror_mode": {
    "name": "ipython",
    "version": 3
   },
   "file_extension": ".py",
   "mimetype": "text/x-python",
   "name": "python",
   "nbconvert_exporter": "python",
   "pygments_lexer": "ipython3",
   "version": "3.10.9"
  },
  "orig_nbformat": 4
 },
 "nbformat": 4,
 "nbformat_minor": 2
}
